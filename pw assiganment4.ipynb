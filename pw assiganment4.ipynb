{
 "cells": [
  {
   "cell_type": "markdown",
   "id": "f28877ec",
   "metadata": {},
   "source": [
    "# Q1. Explain Class and Object with respect to Object-Oriented Programming. Give a suitable example"
   ]
  },
  {
   "cell_type": "markdown",
   "id": "96b6d26f",
   "metadata": {},
   "source": [
    "Ans-Simply put, such a programming language in which classes and objects are created is called object-oriented programming. These types of programs are more useful, secure and modern. Any programming written according to its principle can be easily run."
   ]
  },
  {
   "cell_type": "code",
   "execution_count": null,
   "id": "653e646c",
   "metadata": {},
   "outputs": [],
   "source": [
    "\n",
    "# Example\n",
    "\n",
    "class book:\n",
    "  def __init__(self,name, author,year ):\n",
    "    self.name = name\n",
    "    self.author_name = author\n",
    "    self.rate = 500\n",
    "    self.publish_year = year\n",
    "    \n",
    "  def description(self):\n",
    "    return f\"{self.name},{self.author_name},book Publish in {self.publish_year}\"\n",
    "\n",
    "book_detils =book(\"two state\",\"chetan bagat\",2015)\n",
    "print(book_detils.name) \n",
    "print(book_detils.author_name) \n",
    "print(book_detils.rate)\n",
    "print(book_detils.publish_year)\n",
    "print(book_detils.description("
   ]
  },
  {
   "cell_type": "markdown",
   "id": "e42f6de7",
   "metadata": {},
   "source": [
    "# Q2. Name the four pillars of OOPs."
   ]
  },
  {
   "cell_type": "markdown",
   "id": "b34ad54c",
   "metadata": {},
   "source": [
    "The four pillars of object-oriented programming are:\n",
    "\n",
    "1-Abstraction\n",
    "2-Encapsulation\n",
    "3-Inheritance\n",
    "4-Polymorphism"
   ]
  },
  {
   "cell_type": "markdown",
   "id": "000dbac7",
   "metadata": {},
   "source": [
    "# Q3. Explain why the __init__() function is used. Give a suitable example"
   ]
  },
  {
   "cell_type": "markdown",
   "id": "b61637de",
   "metadata": {},
   "source": [
    "Ans-To understand the meaning of classes we have to understand the built-in __init__() function.\n",
    "\n",
    "All classes have a function called __init__(), which is always executed when the class is being initiated."
   ]
  },
  {
   "cell_type": "code",
   "execution_count": 27,
   "id": "10dd2518",
   "metadata": {},
   "outputs": [
    {
     "name": "stdout",
     "output_type": "stream",
     "text": [
      "two state\n",
      "chetan bagat\n",
      "500\n",
      "2015\n"
     ]
    }
   ],
   "source": [
    "#example\n",
    "class book:\n",
    "  def __init__(self,name, author,year ):\n",
    "    self.name = name\n",
    "    self.author_name = author\n",
    "    self.rate = 500\n",
    "    self.publish_year = year\n",
    "book_detils =book(\"two state\",\"chetan bagat\",2015)\n",
    "print(book_detils.name) \n",
    "print(book_detils.author_name) \n",
    "print(book_detils.rate)\n",
    "print(book_detils.publish_year)"
   ]
  },
  {
   "cell_type": "markdown",
   "id": "378591f4",
   "metadata": {},
   "source": [
    "# Q4-Why self is used in OOPs?"
   ]
  },
  {
   "cell_type": "markdown",
   "id": "dac158bb",
   "metadata": {},
   "source": [
    "Ans-Self is a reference to the current instance of the class. It is used to access the attributes and methods of the class within the class definition"
   ]
  },
  {
   "cell_type": "markdown",
   "id": "ec383910",
   "metadata": {},
   "source": [
    "# Q5Q5. What is inheritance? Give an example for each type of inheritance?\n",
    "\n",
    "inheritance is a mechanism in object-oriented programming that allows a new class to be derived from an existing class, inheriting its attributes and behavior. This is useful for creating new classes that are related to existing classes and share some of their functionality.\n",
    "\n",
    "Types of Inheritance\n",
    "\n",
    "Single Inheritance\n",
    "Single inheritance enables a derived class to inherit properties from a single parent class, thus enabling code reusability and the addition of new features to existing code.\n",
    "\n",
    "\n",
    "#example\n",
    "class Parent:\n",
    "    def func1(self):\n",
    "        print(\"This function is in parent class.\")\n",
    "class Child(Parent):\n",
    "    def func2(self):\n",
    "        print(\"This function is in child class.\")\n",
    "\n",
    "object = Child()\n",
    "object.func1()\n",
    "object.func2()\n",
    "     \n",
    "This function is in parent class.\n",
    "This function is in child class.\n",
    "Multiple Inheritance:\n",
    "When a class can be derived from more than one base class this type of inheritance is called multiple inheritances. In multiple inheritances, all the features of the base classes are inherited into the derived class.\n",
    "\n"
   ]
  },
  {
   "cell_type": "code",
   "execution_count": null,
   "id": "8ec7e745",
   "metadata": {},
   "outputs": [],
   "source": []
  },
  {
   "cell_type": "code",
   "execution_count": null,
   "id": "55550e2d",
   "metadata": {},
   "outputs": [],
   "source": []
  }
 ],
 "metadata": {
  "kernelspec": {
   "display_name": "Python 3 (ipykernel)",
   "language": "python",
   "name": "python3"
  },
  "language_info": {
   "codemirror_mode": {
    "name": "ipython",
    "version": 3
   },
   "file_extension": ".py",
   "mimetype": "text/x-python",
   "name": "python",
   "nbconvert_exporter": "python",
   "pygments_lexer": "ipython3",
   "version": "3.9.12"
  }
 },
 "nbformat": 4,
 "nbformat_minor": 5
}
